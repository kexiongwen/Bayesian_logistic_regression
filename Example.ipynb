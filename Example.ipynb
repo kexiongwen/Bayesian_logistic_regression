{
 "cells": [
  {
   "cell_type": "code",
   "execution_count": 4,
   "metadata": {},
   "outputs": [],
   "source": [
    "import numpy as np\n",
    "from scipy.linalg import toeplitz\n",
    "from scipy.stats import binom\n",
    "from Bayes_logistic_regression import Bayesian_L_half_logist"
   ]
  },
  {
   "cell_type": "code",
   "execution_count": 5,
   "metadata": {},
   "outputs": [],
   "source": [
    "N=500\n",
    "P=1000\n",
    "Corr=0.5**toeplitz(np.arange(0,P),np.arange(0,P))\n",
    "beta=np.zeros((P,1))\n",
    "beta[0]=3\n",
    "beta[1]=1.5\n",
    "beta[4]=2\n",
    "beta[9]=1\n",
    "beta[12]=1\n",
    "beta[18]=0.5\n",
    "beta[25]=-0.5\n",
    "beta[30]=2.0\n",
    "beta[45]=-1.2\n",
    "beta[50]=-1\n",
    "X=np.random.multivariate_normal(np.zeros(P), Corr, N)\n",
    "Z=X@beta\n",
    "Probability=np.exp(Z)/(1+np.exp(Z))\n",
    "Y=binom.rvs(1, Probability)"
   ]
  },
  {
   "cell_type": "code",
   "execution_count": 6,
   "metadata": {},
   "outputs": [
    {
     "ename": "TypeError",
     "evalue": "only size-1 arrays can be converted to Python scalars",
     "output_type": "error",
     "traceback": [
      "\u001b[0;31m---------------------------------------------------------------------------\u001b[0m",
      "\u001b[0;31mTypeError\u001b[0m                                 Traceback (most recent call last)",
      "\u001b[1;32m/Users/kxw/Documents/Bayesian_logistic_regression/Example.ipynb Cell 3\u001b[0m in \u001b[0;36m<cell line: 1>\u001b[0;34m()\u001b[0m\n\u001b[0;32m----> <a href='vscode-notebook-cell:/Users/kxw/Documents/Bayesian_logistic_regression/Example.ipynb#W2sZmlsZQ%3D%3D?line=0'>1</a>\u001b[0m beta_sample\u001b[39m=\u001b[39mBayesian_L_half_logist(Y,X,M\u001b[39m=\u001b[39;49m\u001b[39m10000\u001b[39;49m,burn_in\u001b[39m=\u001b[39;49m\u001b[39m10000\u001b[39;49m)\n",
      "File \u001b[0;32m~/Documents/Bayesian_logistic_regression/Bayes_logistic_regression.py:69\u001b[0m, in \u001b[0;36mBayesian_L_half_logist\u001b[0;34m(Y, X, M, burn_in)\u001b[0m\n\u001b[1;32m     66\u001b[0m     \u001b[39m# Sample omega given x, y from its PG conditional\u001b[39;00m\n\u001b[1;32m     68\u001b[0m     Z\u001b[39m=\u001b[39mX\u001b[39m@beta_sample\u001b[39m[:,i:i\u001b[39m+\u001b[39m\u001b[39m1\u001b[39m]\n\u001b[0;32m---> 69\u001b[0m     omega_sample \u001b[39m=\u001b[39m pg\u001b[39m.\u001b[39;49mpgdraw(\u001b[39m1\u001b[39;49m,Z)\n\u001b[1;32m     72\u001b[0m MCMC_chain\u001b[39m=\u001b[39m(beta_sample[:,burn_in:])\n\u001b[1;32m     74\u001b[0m \u001b[39mreturn\u001b[39;00m MCMC_chain\n",
      "File \u001b[0;32mpypolyagamma/pypolyagamma.pyx:25\u001b[0m, in \u001b[0;36mpypolyagamma.pypolyagamma.PyPolyaGamma.pgdraw\u001b[0;34m()\u001b[0m\n",
      "\u001b[0;31mTypeError\u001b[0m: only size-1 arrays can be converted to Python scalars"
     ]
    }
   ],
   "source": [
    "beta_sample=Bayesian_L_half_logist(Y,X,M=10000,burn_in=10000)"
   ]
  },
  {
   "cell_type": "code",
   "execution_count": null,
   "metadata": {},
   "outputs": [],
   "source": []
  }
 ],
 "metadata": {
  "kernelspec": {
   "display_name": "base",
   "language": "python",
   "name": "python3"
  },
  "language_info": {
   "codemirror_mode": {
    "name": "ipython",
    "version": 3
   },
   "file_extension": ".py",
   "mimetype": "text/x-python",
   "name": "python",
   "nbconvert_exporter": "python",
   "pygments_lexer": "ipython3",
   "version": "3.9.13"
  },
  "orig_nbformat": 4
 },
 "nbformat": 4,
 "nbformat_minor": 2
}
