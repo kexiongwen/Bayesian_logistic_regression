{
 "cells": [
  {
   "cell_type": "code",
   "execution_count": 1,
   "metadata": {},
   "outputs": [],
   "source": [
    "import numpy as np\n",
    "from scipy.linalg import toeplitz\n",
    "from scipy.stats import binom\n",
    "from CD_logistic import CD_logistic"
   ]
  },
  {
   "cell_type": "code",
   "execution_count": 2,
   "metadata": {},
   "outputs": [],
   "source": [
    "N=500\n",
    "P=200\n",
    "Corr=0.5**toeplitz(np.arange(0,P),np.arange(0,P))\n",
    "beta=np.zeros((P,1))\n",
    "beta[0]=3\n",
    "beta[1]=1.5\n",
    "beta[4]=2\n",
    "beta[9]=1\n",
    "beta[12]=1\n",
    "beta[18]=0.5\n",
    "beta[25]=-0.5\n",
    "beta[30]=2.0\n",
    "beta[45]=-1.2\n",
    "beta[50]=-1\n",
    "X=np.random.multivariate_normal(np.zeros(P), Corr, N)\n",
    "Z=X@beta\n",
    "Probability=np.exp(Z)/(1+np.exp(Z))\n",
    "Y=binom.rvs(1, Probability)"
   ]
  },
  {
   "cell_type": "code",
   "execution_count": 3,
   "metadata": {},
   "outputs": [],
   "source": [
    "beta_estimator=CD_logistic(Y,X,C=0.5,s=3)"
   ]
  },
  {
   "cell_type": "code",
   "execution_count": 5,
   "metadata": {},
   "outputs": [
    {
     "data": {
      "text/plain": [
       "(array([ 0,  1,  4,  9, 12, 18, 30, 45, 50]),)"
      ]
     },
     "execution_count": 5,
     "metadata": {},
     "output_type": "execute_result"
    }
   ],
   "source": [
    "np.where(beta_estimator!=0)"
   ]
  },
  {
   "cell_type": "code",
   "execution_count": 4,
   "metadata": {},
   "outputs": [
    {
     "data": {
      "text/plain": [
       "array([ 2.66355834,  1.13870114,  1.67224775,  0.91233219,  0.65047701,\n",
       "        0.29942647,  1.27215973, -1.02423409, -0.64054987])"
      ]
     },
     "execution_count": 4,
     "metadata": {},
     "output_type": "execute_result"
    }
   ],
   "source": [
    "beta_estimator[np.where(beta_estimator!=0)]"
   ]
  }
 ],
 "metadata": {
  "kernelspec": {
   "display_name": "base",
   "language": "python",
   "name": "python3"
  },
  "language_info": {
   "codemirror_mode": {
    "name": "ipython",
    "version": 3
   },
   "file_extension": ".py",
   "mimetype": "text/x-python",
   "name": "python",
   "nbconvert_exporter": "python",
   "pygments_lexer": "ipython3",
   "version": "3.9.13"
  },
  "orig_nbformat": 4
 },
 "nbformat": 4,
 "nbformat_minor": 2
}
