{
 "cells": [
  {
   "cell_type": "code",
   "execution_count": 4,
   "metadata": {},
   "outputs": [],
   "source": [
    "from pypolyagamma import PyPolyaGamma\n",
    "import numpy as np"
   ]
  },
  {
   "cell_type": "code",
   "execution_count": 5,
   "metadata": {},
   "outputs": [],
   "source": [
    "pg = PyPolyaGamma()"
   ]
  },
  {
   "cell_type": "code",
   "execution_count": 12,
   "metadata": {},
   "outputs": [
    {
     "ename": "TypeError",
     "evalue": "only size-1 arrays can be converted to Python scalars",
     "output_type": "error",
     "traceback": [
      "\u001b[0;31m---------------------------------------------------------------------------\u001b[0m",
      "\u001b[0;31mTypeError\u001b[0m                                 Traceback (most recent call last)",
      "\u001b[1;32m/Users/kxw/Documents/Bayesian_logistic_regression/test.ipynb Cell 3\u001b[0m in \u001b[0;36m<cell line: 1>\u001b[0;34m()\u001b[0m\n\u001b[0;32m----> <a href='vscode-notebook-cell:/Users/kxw/Documents/Bayesian_logistic_regression/test.ipynb#W2sZmlsZQ%3D%3D?line=0'>1</a>\u001b[0m pg\u001b[39m.\u001b[39;49mpgdraw(np\u001b[39m.\u001b[39;49mones(\u001b[39m10\u001b[39;49m),\u001b[39m1\u001b[39;49m)\n",
      "File \u001b[0;32mpypolyagamma/pypolyagamma.pyx:25\u001b[0m, in \u001b[0;36mpypolyagamma.pypolyagamma.PyPolyaGamma.pgdraw\u001b[0;34m()\u001b[0m\n",
      "\u001b[0;31mTypeError\u001b[0m: only size-1 arrays can be converted to Python scalars"
     ]
    }
   ],
   "source": [
    "pg.pgdraw(np.ones(10),1)"
   ]
  },
  {
   "cell_type": "code",
   "execution_count": 9,
   "metadata": {},
   "outputs": [
    {
     "ename": "TypeError",
     "evalue": "only size-1 arrays can be converted to Python scalars",
     "output_type": "error",
     "traceback": [
      "\u001b[0;31m---------------------------------------------------------------------------\u001b[0m",
      "\u001b[0;31mTypeError\u001b[0m                                 Traceback (most recent call last)",
      "\u001b[1;32m/Users/kxw/Documents/Bayesian_logistic_regression/test.ipynb Cell 4\u001b[0m in \u001b[0;36m<cell line: 1>\u001b[0;34m()\u001b[0m\n\u001b[0;32m----> <a href='vscode-notebook-cell:/Users/kxw/Documents/Bayesian_logistic_regression/test.ipynb#W3sZmlsZQ%3D%3D?line=0'>1</a>\u001b[0m pg\u001b[39m.\u001b[39;49mpgdraw(\u001b[39m10\u001b[39;49m,np\u001b[39m.\u001b[39;49mones(\u001b[39m10\u001b[39;49m))\n",
      "File \u001b[0;32mpypolyagamma/pypolyagamma.pyx:25\u001b[0m, in \u001b[0;36mpypolyagamma.pypolyagamma.PyPolyaGamma.pgdraw\u001b[0;34m()\u001b[0m\n",
      "\u001b[0;31mTypeError\u001b[0m: only size-1 arrays can be converted to Python scalars"
     ]
    }
   ],
   "source": [
    "pg.pgdraw(10,np.ones(10))"
   ]
  },
  {
   "cell_type": "code",
   "execution_count": null,
   "metadata": {},
   "outputs": [],
   "source": []
  }
 ],
 "metadata": {
  "kernelspec": {
   "display_name": "base",
   "language": "python",
   "name": "python3"
  },
  "language_info": {
   "codemirror_mode": {
    "name": "ipython",
    "version": 3
   },
   "file_extension": ".py",
   "mimetype": "text/x-python",
   "name": "python",
   "nbconvert_exporter": "python",
   "pygments_lexer": "ipython3",
   "version": "3.9.13"
  },
  "orig_nbformat": 4
 },
 "nbformat": 4,
 "nbformat_minor": 2
}
