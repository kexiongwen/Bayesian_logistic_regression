{
 "cells": [
  {
   "cell_type": "code",
   "execution_count": 1,
   "metadata": {},
   "outputs": [],
   "source": [
    "import numpy as np\n",
    "from scipy.linalg import toeplitz\n",
    "from scipy.stats import binom\n",
    "from Bayes_logistic_regression import Bayesian_L_half_logist"
   ]
  },
  {
   "cell_type": "code",
   "execution_count": 2,
   "metadata": {},
   "outputs": [],
   "source": [
    "N=500\n",
    "P=200\n",
    "Corr=0.5**toeplitz(np.arange(0,P),np.arange(0,P))\n",
    "beta=np.zeros((P,1))\n",
    "beta[0]=3\n",
    "beta[1]=1.5\n",
    "beta[4]=2\n",
    "beta[9]=1\n",
    "beta[12]=1\n",
    "beta[18]=0.5\n",
    "beta[25]=-0.5\n",
    "beta[30]=2.0\n",
    "beta[45]=-1.2\n",
    "beta[50]=-1\n",
    "X=np.random.multivariate_normal(np.zeros(P), Corr, N)\n",
    "Z=X@beta\n",
    "Probability=np.exp(Z)/(1+np.exp(Z))\n",
    "Y=binom.rvs(1, Probability)"
   ]
  },
  {
   "cell_type": "code",
   "execution_count": 3,
   "metadata": {},
   "outputs": [],
   "source": [
    "beta_sample=Bayesian_L_half_logist(Y,X,M=10000,burn_in=10000)"
   ]
  },
  {
   "cell_type": "code",
   "execution_count": 4,
   "metadata": {},
   "outputs": [],
   "source": [
    "beta_mean=np.mean(beta_sample,axis=1)\n",
    "beta_std=np.std(beta_sample,axis=1)"
   ]
  },
  {
   "cell_type": "code",
   "execution_count": 5,
   "metadata": {},
   "outputs": [
    {
     "data": {
      "text/plain": [
       "(array([ 0,  1,  4,  9, 12, 18, 30, 45, 50]),)"
      ]
     },
     "execution_count": 5,
     "metadata": {},
     "output_type": "execute_result"
    }
   ],
   "source": [
    "np.where(np.abs(beta_mean/beta_std)>1.64)"
   ]
  },
  {
   "cell_type": "code",
   "execution_count": 6,
   "metadata": {},
   "outputs": [
    {
     "data": {
      "text/plain": [
       "array([ 4.70255922,  1.85460509,  3.11118267,  1.39956846,  1.18098773,\n",
       "        0.73212345,  2.97626647, -1.70991634, -1.59375763])"
      ]
     },
     "execution_count": 6,
     "metadata": {},
     "output_type": "execute_result"
    }
   ],
   "source": [
    "beta_mean[np.where(np.abs(beta_mean/beta_std)>1.64)]"
   ]
  }
 ],
 "metadata": {
  "kernelspec": {
   "display_name": "base",
   "language": "python",
   "name": "python3"
  },
  "language_info": {
   "codemirror_mode": {
    "name": "ipython",
    "version": 3
   },
   "file_extension": ".py",
   "mimetype": "text/x-python",
   "name": "python",
   "nbconvert_exporter": "python",
   "pygments_lexer": "ipython3",
   "version": "3.9.13"
  },
  "orig_nbformat": 4
 },
 "nbformat": 4,
 "nbformat_minor": 2
}
